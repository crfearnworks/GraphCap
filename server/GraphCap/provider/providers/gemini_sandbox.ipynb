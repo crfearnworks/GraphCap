{
 "cells": [
  {
   "cell_type": "code",
   "execution_count": 5,
   "metadata": {},
   "outputs": [
    {
     "name": "stdout",
     "output_type": "stream",
     "text": [
      "ChatCompletionMessage(content='Alright, let\\'s break down how AI works! It\\'s a broad field, so I\\'ll focus on the core concepts and then touch on some popular techniques.\\n\\n**At its Heart: The Goal of AI**\\n\\nThe fundamental goal of Artificial Intelligence (AI) is to create machines that can perform tasks that typically require human intelligence. This includes things like:\\n\\n*   **Learning:** Improving performance over time with experience.\\n*   **Problem-solving:** Finding solutions to complex issues.\\n*   **Decision-making:** Choosing the best course of action from available options.\\n*   **Understanding Language:** Comprehending and generating human language.\\n*   **Perceiving the World:** Interpreting visual, auditory, and other sensory inputs.\\n\\n**The Core Components of AI**\\n\\nWhile there are many approaches to AI, several core concepts are shared across various systems:\\n\\n1.  **Data:** AI systems need data to learn. This can be anything from images and text to numerical values and sensor readings. The more data, generally, the better the AI can learn.\\n2.  **Algorithms:** These are sets of rules or instructions that tell the AI how to process the data. Algorithms are the \"brains\" of the AI. They enable the AI to learn from the data and make predictions or decisions.\\n3.  **Models:** A model is the learned representation of the data based on the algorithm. It encapsulates what the AI has learned from the data. Think of it as the AI\\'s understanding of the world within a specific problem domain.\\n4.  **Training:** This is the process of feeding data to the algorithm to create a model. Through training, the model learns to recognize patterns and relationships in the data.\\n5.  **Inference/Prediction:** Once trained, the AI can use the model to make predictions, decisions, or generate content when presented with new, unseen data.\\n\\n**Key Approaches to AI**\\n\\nHere are some of the most common approaches to creating AI systems:\\n\\n*   **Machine Learning (ML):** This is the most common type of AI. Instead of explicitly programming rules, you \"teach\" the AI by providing it with examples and allowing it to find patterns. Types of Machine Learning include:\\n    *   **Supervised Learning:** The AI is given labeled data (inputs with known outputs) and learns to map inputs to outputs. Example: Training a model to classify images of cats vs. dogs.\\n    *   **Unsupervised Learning:** The AI is given unlabeled data and must find patterns or structure on its own. Example: Grouping customers based on their purchasing behavior.\\n    *   **Reinforcement Learning:** The AI learns through trial and error, receiving rewards or penalties based on its actions. Example: Training a robot to navigate a maze.\\n\\n*   **Deep Learning (DL):** A subfield of machine learning that uses artificial neural networks with multiple layers (hence \"deep\") to extract complex features from data. It excels at handling large datasets and has driven many breakthroughs in areas like image recognition and natural language processing.\\n\\n*   **Rule-Based Systems (Expert Systems):** These AI systems rely on a set of pre-defined rules and logical statements created by human experts. They are best suited for well-defined problems with clear rules, but they can be difficult to adapt to new situations.\\n\\n*   **Natural Language Processing (NLP):** This branch of AI focuses on enabling machines to understand, interpret, and generate human language. This is used in applications like chatbots, machine translation, and sentiment analysis.\\n\\n**Simplified Example: Spam Email Detection**\\n\\nLet\\'s illustrate with a simple supervised machine learning example:\\n\\n1.  **Data:** You collect a dataset of emails, some labeled as \"spam\" and others as \"not spam.\"\\n2.  **Algorithm:** You choose a suitable algorithm, like a decision tree or support vector machine.\\n3.  **Training:** The algorithm analyzes the email content (words, phrases, sender, etc.) and finds patterns that distinguish spam from non-spam. This creates a model.\\n4.  **Inference/Prediction:** The model is now able to classify new, incoming emails as either \"spam\" or \"not spam.\"\\n\\n**Important Notes:**\\n\\n*   **AI is not magic:** It\\'s based on mathematical and statistical principles, and it relies on data and algorithms to function.\\n*   **AI is constantly evolving:** New techniques and approaches are continuously being developed, pushing the boundaries of what\\'s possible.\\n*   **AI has limitations:** AI can be biased if the data is biased. It\\'s not always perfect and can make mistakes. Ethical concerns are also paramount in the development and deployment of AI.\\n*   **AI doesn\\'t replace human intelligence:** It is designed to augment or complement human capabilities, not replace them entirely.\\n\\n**In Conclusion**\\n\\nAI is a complex and rapidly advancing field. However, by understanding these fundamental concepts – data, algorithms, models, training, and inference – you can gain a solid foundation for understanding how different AI systems function. It\\'s a fascinating field that is transforming how we interact with technology and the world around us.\\n\\nDo you have any specific areas of AI you would like to explore further? Let me know if you have any other questions.\\n', refusal=None, role='assistant', audio=None, function_call=None, tool_calls=None)\n"
     ]
    }
   ],
   "source": [
    "import os\n",
    "\n",
    "from dotenv import load_dotenv\n",
    "from openai import OpenAI\n",
    "\n",
    "load_dotenv()\n",
    "GEMINI_API_KEY = os.getenv(\"GOOGLE_API_KEY\")\n",
    "\n",
    "\n",
    "client = OpenAI(\n",
    "    api_key=GEMINI_API_KEY,\n",
    "    base_url=\"https://generativelanguage.googleapis.com/v1beta/\"\n",
    ")\n",
    "response = client.chat.completions.create(\n",
    "    model=\"gemini-2.0-flash-exp\",\n",
    "    n=1,\n",
    "    messages=[\n",
    "        {\"role\": \"system\", \"content\": \"You are a helpful assistant.\"},\n",
    "        {\"role\": \"user\", \"content\": \"Explain to me how AI works\"}\n",
    "    ]\n",
    ")\n",
    "print(response.choices[0].message)"
   ]
  }
 ],
 "metadata": {
  "kernelspec": {
   "display_name": ".venv",
   "language": "python",
   "name": "python3"
  },
  "language_info": {
   "codemirror_mode": {
    "name": "ipython",
    "version": 3
   },
   "file_extension": ".py",
   "mimetype": "text/x-python",
   "name": "python",
   "nbconvert_exporter": "python",
   "pygments_lexer": "ipython3",
   "version": "3.12.7"
  }
 },
 "nbformat": 4,
 "nbformat_minor": 2
}
