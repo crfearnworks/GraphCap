{
 "cells": [
  {
   "cell_type": "code",
   "execution_count": 3,
   "metadata": {},
   "outputs": [
    {
     "name": "stderr",
     "output_type": "stream",
     "text": [
      "\u001b[32m2025-01-25 16:06:00.245\u001b[0m | \u001b[1mINFO    \u001b[0m | \u001b[36mproviders.provider_manager\u001b[0m:\u001b[36m__init__\u001b[0m:\u001b[36m19\u001b[0m - \u001b[1mInitializing ProviderManager with config from provider.config.toml\u001b[0m\n",
      "\u001b[32m2025-01-25 16:06:00.246\u001b[0m | \u001b[1mINFO    \u001b[0m | \u001b[36mproviders.provider_manager\u001b[0m:\u001b[36m_initialize_clients\u001b[0m:\u001b[36m29\u001b[0m - \u001b[1mInitializing all configured clients\u001b[0m\n",
      "\u001b[32m2025-01-25 16:06:00.246\u001b[0m | \u001b[34m\u001b[1mDEBUG   \u001b[0m | \u001b[36mproviders.provider_manager\u001b[0m:\u001b[36m_initialize_clients\u001b[0m:\u001b[36m37\u001b[0m - \u001b[34m\u001b[1mAttempting to initialize cloud provider 'cloud.openai'\u001b[0m\n",
      "\u001b[32m2025-01-25 16:06:00.246\u001b[0m | \u001b[1mINFO    \u001b[0m | \u001b[36mproviders.provider_manager\u001b[0m:\u001b[36mget_client\u001b[0m:\u001b[36m94\u001b[0m - \u001b[1mCreating new client for provider 'cloud.openai'\u001b[0m\n",
      "\u001b[32m2025-01-25 16:06:00.246\u001b[0m | \u001b[34m\u001b[1mDEBUG   \u001b[0m | \u001b[36mproviders.provider_manager\u001b[0m:\u001b[36m_get_provider_config\u001b[0m:\u001b[36m66\u001b[0m - \u001b[34m\u001b[1mGetting config for provider 'cloud.openai'\u001b[0m\n",
      "\u001b[32m2025-01-25 16:06:00.246\u001b[0m | \u001b[34m\u001b[1mDEBUG   \u001b[0m | \u001b[36mproviders.provider_manager\u001b[0m:\u001b[36m_get_provider_config\u001b[0m:\u001b[36m73\u001b[0m - \u001b[34m\u001b[1mFound cloud config for provider 'cloud.openai'\u001b[0m\n",
      "\u001b[32m2025-01-25 16:06:00.247\u001b[0m | \u001b[34m\u001b[1mDEBUG   \u001b[0m | \u001b[36mproviders.provider_manager\u001b[0m:\u001b[36mget_client\u001b[0m:\u001b[36m102\u001b[0m - \u001b[34m\u001b[1mUsing base_url: https://api.openai.com/v1 for provider 'cloud.openai'\u001b[0m\n"
     ]
    },
    {
     "name": "stderr",
     "output_type": "stream",
     "text": [
      "\u001b[32m2025-01-25 16:06:00.258\u001b[0m | \u001b[1mINFO    \u001b[0m | \u001b[36mproviders.provider_manager\u001b[0m:\u001b[36mget_client\u001b[0m:\u001b[36m117\u001b[0m - \u001b[1mSuccessfully created client for provider 'cloud.openai'\u001b[0m\n",
      "\u001b[32m2025-01-25 16:06:00.258\u001b[0m | \u001b[34m\u001b[1mDEBUG   \u001b[0m | \u001b[36mproviders.provider_manager\u001b[0m:\u001b[36m_initialize_clients\u001b[0m:\u001b[36m37\u001b[0m - \u001b[34m\u001b[1mAttempting to initialize cloud provider 'cloud.gemini'\u001b[0m\n",
      "\u001b[32m2025-01-25 16:06:00.258\u001b[0m | \u001b[1mINFO    \u001b[0m | \u001b[36mproviders.provider_manager\u001b[0m:\u001b[36mget_client\u001b[0m:\u001b[36m94\u001b[0m - \u001b[1mCreating new client for provider 'cloud.gemini'\u001b[0m\n",
      "\u001b[32m2025-01-25 16:06:00.258\u001b[0m | \u001b[34m\u001b[1mDEBUG   \u001b[0m | \u001b[36mproviders.provider_manager\u001b[0m:\u001b[36m_get_provider_config\u001b[0m:\u001b[36m66\u001b[0m - \u001b[34m\u001b[1mGetting config for provider 'cloud.gemini'\u001b[0m\n",
      "\u001b[32m2025-01-25 16:06:00.259\u001b[0m | \u001b[34m\u001b[1mDEBUG   \u001b[0m | \u001b[36mproviders.provider_manager\u001b[0m:\u001b[36m_get_provider_config\u001b[0m:\u001b[36m73\u001b[0m - \u001b[34m\u001b[1mFound cloud config for provider 'cloud.gemini'\u001b[0m\n",
      "\u001b[32m2025-01-25 16:06:00.259\u001b[0m | \u001b[34m\u001b[1mDEBUG   \u001b[0m | \u001b[36mproviders.provider_manager\u001b[0m:\u001b[36mget_client\u001b[0m:\u001b[36m102\u001b[0m - \u001b[34m\u001b[1mUsing base_url: https://generativelanguage.googleapis.com/v1beta for provider 'cloud.gemini'\u001b[0m\n",
      "\u001b[32m2025-01-25 16:06:00.270\u001b[0m | \u001b[1mINFO    \u001b[0m | \u001b[36mproviders.provider_manager\u001b[0m:\u001b[36mget_client\u001b[0m:\u001b[36m117\u001b[0m - \u001b[1mSuccessfully created client for provider 'cloud.gemini'\u001b[0m\n",
      "\u001b[32m2025-01-25 16:06:00.270\u001b[0m | \u001b[34m\u001b[1mDEBUG   \u001b[0m | \u001b[36mproviders.provider_manager\u001b[0m:\u001b[36m_initialize_clients\u001b[0m:\u001b[36m50\u001b[0m - \u001b[34m\u001b[1mAttempting to initialize custom provider 'custom.ollama'\u001b[0m\n",
      "\u001b[32m2025-01-25 16:06:00.270\u001b[0m | \u001b[1mINFO    \u001b[0m | \u001b[36mproviders.provider_manager\u001b[0m:\u001b[36mget_client\u001b[0m:\u001b[36m94\u001b[0m - \u001b[1mCreating new client for provider 'custom.ollama'\u001b[0m\n",
      "\u001b[32m2025-01-25 16:06:00.270\u001b[0m | \u001b[34m\u001b[1mDEBUG   \u001b[0m | \u001b[36mproviders.provider_manager\u001b[0m:\u001b[36m_get_provider_config\u001b[0m:\u001b[36m66\u001b[0m - \u001b[34m\u001b[1mGetting config for provider 'custom.ollama'\u001b[0m\n",
      "\u001b[32m2025-01-25 16:06:00.271\u001b[0m | \u001b[34m\u001b[1mDEBUG   \u001b[0m | \u001b[36mproviders.provider_manager\u001b[0m:\u001b[36m_get_provider_config\u001b[0m:\u001b[36m79\u001b[0m - \u001b[34m\u001b[1mFound custom config for provider 'custom.ollama'\u001b[0m\n",
      "\u001b[32m2025-01-25 16:06:00.271\u001b[0m | \u001b[34m\u001b[1mDEBUG   \u001b[0m | \u001b[36mproviders.provider_manager\u001b[0m:\u001b[36mget_client\u001b[0m:\u001b[36m102\u001b[0m - \u001b[34m\u001b[1mUsing base_url: http://localhost:11434 for provider 'custom.ollama'\u001b[0m\n",
      "\u001b[32m2025-01-25 16:06:00.282\u001b[0m | \u001b[1mINFO    \u001b[0m | \u001b[36mproviders.ollama_client\u001b[0m:\u001b[36m__init__\u001b[0m:\u001b[36m9\u001b[0m - \u001b[1mOllamaClient initialized with base_url: http://localhost:11434\u001b[0m\n",
      "\u001b[32m2025-01-25 16:06:00.282\u001b[0m | \u001b[1mINFO    \u001b[0m | \u001b[36mproviders.provider_manager\u001b[0m:\u001b[36mget_client\u001b[0m:\u001b[36m117\u001b[0m - \u001b[1mSuccessfully created client for provider 'custom.ollama'\u001b[0m\n",
      "\u001b[32m2025-01-25 16:06:00.282\u001b[0m | \u001b[34m\u001b[1mDEBUG   \u001b[0m | \u001b[36mproviders.provider_manager\u001b[0m:\u001b[36m_initialize_clients\u001b[0m:\u001b[36m50\u001b[0m - \u001b[34m\u001b[1mAttempting to initialize custom provider 'custom.vllm-pixtral'\u001b[0m\n",
      "\u001b[32m2025-01-25 16:06:00.282\u001b[0m | \u001b[1mINFO    \u001b[0m | \u001b[36mproviders.provider_manager\u001b[0m:\u001b[36mget_client\u001b[0m:\u001b[36m94\u001b[0m - \u001b[1mCreating new client for provider 'custom.vllm-pixtral'\u001b[0m\n",
      "\u001b[32m2025-01-25 16:06:00.282\u001b[0m | \u001b[34m\u001b[1mDEBUG   \u001b[0m | \u001b[36mproviders.provider_manager\u001b[0m:\u001b[36m_get_provider_config\u001b[0m:\u001b[36m66\u001b[0m - \u001b[34m\u001b[1mGetting config for provider 'custom.vllm-pixtral'\u001b[0m\n",
      "\u001b[32m2025-01-25 16:06:00.283\u001b[0m | \u001b[34m\u001b[1mDEBUG   \u001b[0m | \u001b[36mproviders.provider_manager\u001b[0m:\u001b[36m_get_provider_config\u001b[0m:\u001b[36m79\u001b[0m - \u001b[34m\u001b[1mFound custom config for provider 'custom.vllm-pixtral'\u001b[0m\n",
      "\u001b[32m2025-01-25 16:06:00.283\u001b[0m | \u001b[34m\u001b[1mDEBUG   \u001b[0m | \u001b[36mproviders.provider_manager\u001b[0m:\u001b[36mget_client\u001b[0m:\u001b[36m102\u001b[0m - \u001b[34m\u001b[1mUsing base_url: http://localhost:11435 for provider 'custom.vllm-pixtral'\u001b[0m\n",
      "\u001b[32m2025-01-25 16:06:00.283\u001b[0m | \u001b[1mINFO    \u001b[0m | \u001b[36mproviders.vllm_client\u001b[0m:\u001b[36m__init__\u001b[0m:\u001b[36m14\u001b[0m - \u001b[1mVLLMClient initialized with base_url: http://localhost:11435/v1\u001b[0m\n",
      "\u001b[32m2025-01-25 16:06:00.294\u001b[0m | \u001b[1mINFO    \u001b[0m | \u001b[36mproviders.provider_manager\u001b[0m:\u001b[36mget_client\u001b[0m:\u001b[36m117\u001b[0m - \u001b[1mSuccessfully created client for provider 'custom.vllm-pixtral'\u001b[0m\n",
      "\u001b[32m2025-01-25 16:06:00.294\u001b[0m | \u001b[1mINFO    \u001b[0m | \u001b[36mproviders.provider_manager\u001b[0m:\u001b[36m_initialize_clients\u001b[0m:\u001b[36m57\u001b[0m - \u001b[1mSuccessfully initialized 4 clients\u001b[0m\n"
     ]
    },
    {
     "data": {
      "text/plain": [
       "{'cloud.openai': <openai.OpenAI at 0x7fca05d78fe0>,\n",
       " 'cloud.gemini': <providers.gemini_client.GeminiClient at 0x7fca04a1c650>,\n",
       " 'custom.ollama': <providers.ollama_client.OllamaClient at 0x7fca049d2660>,\n",
       " 'custom.vllm-pixtral': <providers.vllm_client.VLLMClient at 0x7fca04a1f410>}"
      ]
     },
     "execution_count": 3,
     "metadata": {},
     "output_type": "execute_result"
    }
   ],
   "source": [
    "%reload_ext autoreload\n",
    "%autoreload 2\n",
    "\n",
    "from dotenv import load_dotenv\n",
    "\n",
    "load_dotenv()\n",
    "\n",
    "from providers.provider_config import load_provider_config\n",
    "\n",
    "config = load_provider_config()\n",
    "\n",
    "config\n",
    "\n",
    "from providers.provider_manager import ProviderManager\n",
    "\n",
    "manager = ProviderManager()\n",
    "\n",
    "manager.clients()"
   ]
  },
  {
   "cell_type": "code",
   "execution_count": 4,
   "metadata": {},
   "outputs": [
    {
     "data": {
      "text/plain": [
       "{'provider': {'cloud': {'openai': {'api_key': 'OPENAI_API_KEY',\n",
       "    'base_url': 'https://api.openai.com/v1',\n",
       "    'models': ['gpt-4o-mini', 'gpt-4o']},\n",
       "   'gemini': {'api_key': 'GEMINI_API_KEY',\n",
       "    'base_url': 'https://generativelanguage.googleapis.com/v1beta',\n",
       "    'models': ['gemini-2.0-flash-exp']}}},\n",
       " 'providers': {'custom': {'ollama': {'api_key': 'CUSTOM_PROVIDER_1_KEY',\n",
       "    'base_url': 'http://localhost:11434',\n",
       "    'fetch_models': True},\n",
       "   'vllm-pixtral': {'api_key': 'CUSTOM_PROVIDER_2_KEY',\n",
       "    'base_url': 'http://localhost:11435',\n",
       "    'fetch_models': True}}}}"
      ]
     },
     "execution_count": 4,
     "metadata": {},
     "output_type": "execute_result"
    }
   ],
   "source": [
    "manager.config"
   ]
  }
 ],
 "metadata": {
  "kernelspec": {
   "display_name": ".venv",
   "language": "python",
   "name": "python3"
  },
  "language_info": {
   "codemirror_mode": {
    "name": "ipython",
    "version": 3
   },
   "file_extension": ".py",
   "mimetype": "text/x-python",
   "name": "python",
   "nbconvert_exporter": "python",
   "pygments_lexer": "ipython3",
   "version": "3.12.7"
  }
 },
 "nbformat": 4,
 "nbformat_minor": 2
}
